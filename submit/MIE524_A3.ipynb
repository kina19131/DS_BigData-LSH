{
  "cells": [
    {
      "cell_type": "markdown",
      "metadata": {
        "id": "XgUDYmnggbCs"
      },
      "source": [
        "# MIE524 - Assignment 3\n",
        "Please complete this notebook for Assignment 3."
      ]
    },
    {
      "cell_type": "markdown",
      "metadata": {
        "id": "0Q2h5QUA3X1W"
      },
      "source": [
        "## Q2 - Locality-Sensitive Hashing for Approximate Nearest Neighbour"
      ]
    },
    {
      "cell_type": "code",
      "execution_count": 1,
      "metadata": {
        "id": "6DLjMA8K3W01"
      },
      "outputs": [],
      "source": [
        "import numpy as np\n",
        "import random\n",
        "import time\n",
        "import unittest\n",
        "from PIL import Image\n",
        "from sklearn.model_selection import train_test_split\n",
        "from collections import defaultdict"
      ]
    },
    {
      "cell_type": "code",
      "execution_count": 2,
      "metadata": {
        "id": "vCbxRHA63mf0"
      },
      "outputs": [],
      "source": [
        "def l1(u, v):\n",
        "    \"\"\"\n",
        "    Finds the L1 distance between two vectors\n",
        "    u and v are 1-dimensional np.array objects\n",
        "    \"\"\"\n",
        "    return np.linalg.norm(u-v, ord=1)"
      ]
    },
    {
      "cell_type": "code",
      "execution_count": 3,
      "metadata": {
        "id": "x_hPsHN03skZ"
      },
      "outputs": [],
      "source": [
        "class my_LSH:\n",
        "    def __init__(self, dataset, n_bands, n_rows):\n",
        "        \"\"\"\n",
        "        Initializes the LSH object\n",
        "        dataset - dataset to be searched\n",
        "        n_bands - number of bands\n",
        "        n_rows - number of rows in each band\n",
        "        \"\"\"\n",
        "        self.n_bands =  n_bands\n",
        "        self.n_rows =  n_rows\n",
        "\n",
        "        self.A  =  dataset\n",
        "        self.bands  =  self.create_bands()\n",
        "        self.bands_buckets = [defaultdict(set) for band in self.bands]\n",
        "        self.index_data()\n",
        "\n",
        "    def create_band_function(self, dimensions, thresholds):\n",
        "        \"\"\"\n",
        "        Creates a g_j function from the original image and compare from a list of dimensions and thresholds.\n",
        "        Each g_j function generates the j'th band values for a given datapoint (a concatenation of r hash values).\n",
        "        Each (locality-sensitive) hash value is equal 1 if the corresponding dimension in the original image is higher than the corresppnding threshold.\n",
        "        \"\"\"\n",
        "        def band_function(v):\n",
        "            boolarray = [v[dimensions[i]] >= thresholds[i] for i in range(len(dimensions))]\n",
        "            return \"\".join(map(str, map(int, boolarray)))\n",
        "        return band_function\n",
        "\n",
        "    def create_bands(self, num_dimensions=400, min_threshold=0, max_threshold=255):\n",
        "        \"\"\"\n",
        "        Creates the collection of g_j functions 1<=j<=b, one for each band.\n",
        "        Each function selects r dimensions (i.e. column indices of the image matrix)\n",
        "        at random, and then chooses a random threshold for each dimension, between 0 and\n",
        "        255.  For any image, if its value on a given dimension is greater than or equal to\n",
        "        the randomly chosen threshold, we set that bit to 1.  Each hash function returns\n",
        "        a length-r bit string of the form \"0101010001101001...\".\n",
        "        \"\"\"\n",
        "        bands = []\n",
        "        for i in range(self.n_bands):\n",
        "            dimensions = np.random.randint(low = 0,\n",
        "                                        high = num_dimensions,\n",
        "                                        size = self.n_rows)\n",
        "            thresholds = np.random.randint(low = min_threshold,\n",
        "                                        high = max_threshold + 1,\n",
        "                                        size = self.n_rows)\n",
        "\n",
        "            bands.append(self.create_band_function(dimensions, thresholds))\n",
        "        return bands\n",
        "\n",
        "    def hash_vector(self, v):\n",
        "        \"\"\"\n",
        "        Hashes an individual vector (i.e. image).  This produces an array with b\n",
        "        entries (one for each band), where each entry is a string of r bits (one for each row).\n",
        "        \"\"\"\n",
        "        return [f(v) for f in self.bands]\n",
        "\n",
        "    def index_data(self):\n",
        "        \"\"\"\n",
        "        Hashes the data in A, where each row is a datapoint, using the b band\n",
        "        functions in \"functions.\" For each band, we use the corresponding dictionary (hash table) to index the data point.\n",
        "        \"\"\"\n",
        "        for doc_index in range(self.A.shape[0]):\n",
        "            doc_hash = self.hash_vector(self.A[doc_index,:])\n",
        "            for band_idx, doc_band_hash in enumerate(doc_hash):\n",
        "                self.bands_buckets[band_idx][doc_band_hash].add(doc_index)\n",
        "\n",
        "    def get_candidates(self, query_vector):\n",
        "        \"\"\"\n",
        "        Retrieve all of the points that hash to one of the same buckets as the query point.\n",
        "        \"\"\"\n",
        "        query_hash = self.hash_vector(query_vector)\n",
        "        candidates = set()\n",
        "        for band_idx, query_band_hash in enumerate(query_hash):\n",
        "          bucket_candidates = self.bands_buckets[band_idx][query_band_hash]\n",
        "          candidates = candidates.union(bucket_candidates)\n",
        "        return candidates\n",
        "\n",
        "    def lsh_search(self, query_vector, num_neighbours=3):\n",
        "        \"\"\"\n",
        "        Run the entire LSH algorithm\n",
        "        \"\"\"\n",
        "        # 1. Get the candidates for nearest neighbours\n",
        "        # 2. Determine distance of candidates\n",
        "        # 3. Extract best neighbours\n",
        "        # 4. Return a list of the best neighbours and a list of the corresponding distances between each neighbour and the query\n",
        "\n",
        "        # TODO: YOUR CODE HERE\n",
        "        # 1. Get the candidates for nearest neighbours\n",
        "        candidates = self.get_candidates(query_vector)\n",
        "\n",
        "        # 2. Determine distance of candidates\n",
        "        lsh_neighbours = []\n",
        "        lsh_dist = []\n",
        "\n",
        "        for candidate in candidates:\n",
        "          # Calculate the L1 distance between the query image and the candidate\n",
        "          distance = l1(query_vector, self.A[candidate])\n",
        "\n",
        "          # Append the candidate and its distance to the lists\n",
        "          lsh_neighbours.append(candidate)\n",
        "          lsh_dist.append(distance)\n",
        "\n",
        "        # 3. Extract best neighbours\n",
        "        lsh_neighbours_idx = np.array(lsh_neighbours)\n",
        "        lsh_dist = np.array(lsh_dist)\n",
        "\n",
        "        sorted_idx = np.argsort(lsh_dist)\n",
        "        lsh_neighbours_idx = lsh_neighbours_idx[sorted_idx]\n",
        "\n",
        "        lsh_dist = lsh_dist[sorted_idx]\n",
        "        lsh_neighbours_idx = lsh_neighbours_idx[:num_neighbours]\n",
        "        lsh_dist = lsh_dist[:num_neighbours]\n",
        "\n",
        "        return lsh_neighbours_idx, lsh_dist\n",
        ""
      ]
    },
    {
      "cell_type": "code",
      "execution_count": 4,
      "metadata": {
        "id": "GyMlQEJc5MQW"
      },
      "outputs": [],
      "source": [
        "def plot(A, row_nums, base_filename):\n",
        "    \"\"\"\n",
        "    Plots images at the specified rows and saves them each to files.\n",
        "    \"\"\"\n",
        "    for row_num in row_nums:\n",
        "        patch = np.reshape(A[row_num, :], [20, 20])\n",
        "        im = Image.fromarray(patch)\n",
        "        if im.mode != 'RGB':\n",
        "            im = im.convert('RGB')\n",
        "        display(im)\n",
        "        im.save(base_filename + \"-\" + str(row_num) + \".png\")"
      ]
    },
    {
      "cell_type": "code",
      "execution_count": 5,
      "metadata": {
        "id": "Yq3EAJZu59Ma"
      },
      "outputs": [],
      "source": [
        "#### TESTS #####\n",
        "\n",
        "class TestLSH(unittest.TestCase):\n",
        "    def test_l1(self):\n",
        "        u = np.array([1, 2, 3, 4])\n",
        "        v = np.array([2, 3, 2, 3])\n",
        "        self.assertEqual(l1(u, v), 4)\n",
        "\n",
        "    def test_hash_data(self):\n",
        "        f1 = lambda v: sum(v)\n",
        "        f2 = lambda v: sum([x * x for x in v])\n",
        "        A = np.array([[1, 2, 3], [4, 5, 6]])\n",
        "        self.assertEqual(f1(A[0,:]), 6)\n",
        "        self.assertEqual(f2(A[0,:]), 14)\n",
        "\n",
        "        functions = [f1, f2]\n",
        "        self.assertTrue(np.array_equal(lsh.hash_vector(functions, A[0, :]), np.array([6, 14])))\n",
        "        self.assertTrue(np.array_equal(lsh.hash_data(functions, A), np.array([[6, 14], [15, 77]])))\n",
        "\n",
        "    ### You may write your own tests here"
      ]
    },
    {
      "cell_type": "markdown",
      "metadata": {
        "id": "0KDpz8I57EhF"
      },
      "source": [
        "### b) Split data with 100 random query points"
      ]
    },
    {
      "cell_type": "code",
      "source": [
        "!unzip '/content/patches.csv.zip' # I added"
      ],
      "metadata": {
        "colab": {
          "base_uri": "https://localhost:8080/"
        },
        "id": "chPFllg0zlDs",
        "outputId": "f82f91eb-051a-4006-fe74-aca45c415d63"
      },
      "execution_count": 7,
      "outputs": [
        {
          "output_type": "stream",
          "name": "stdout",
          "text": [
            "Archive:  /content/patches.csv.zip\n",
            "  inflating: patches.csv             \n",
            "  inflating: __MACOSX/._patches.csv  \n"
          ]
        }
      ]
    },
    {
      "cell_type": "code",
      "execution_count": 6,
      "metadata": {
        "id": "wF_fqFvrdpYP"
      },
      "outputs": [],
      "source": [
        "import pandas as pd\n",
        "data = pd.read_csv('patches.csv', sep=',', header=None).to_numpy()\n",
        "dataset, query_points = train_test_split(data, test_size=100, random_state=42)"
      ]
    },
    {
      "cell_type": "code",
      "execution_count": 7,
      "metadata": {
        "colab": {
          "base_uri": "https://localhost:8080/"
        },
        "id": "CtbFMzRdo_Yl",
        "outputId": "e7ad7a93-e80e-4485-b25c-dcfea65215b1"
      },
      "outputs": [
        {
          "output_type": "stream",
          "name": "stdout",
          "text": [
            "(59400, 400)\n",
            "(100, 400)\n"
          ]
        }
      ],
      "source": [
        "## I added to check how dataset and query_points look like\n",
        "print(dataset.shape)\n",
        "print(query_points.shape)"
      ]
    },
    {
      "cell_type": "markdown",
      "metadata": {
        "id": "REWC3jnvZFi4"
      },
      "source": [
        "### c) Compare LSH and linear search for the 100 query points"
      ]
    },
    {
      "cell_type": "code",
      "execution_count": 8,
      "metadata": {
        "id": "U2I0euT46Pqp"
      },
      "outputs": [],
      "source": [
        "# Initialize a my_LSH class\n",
        "lsh = my_LSH(data, n_rows=24, n_bands=10)"
      ]
    },
    {
      "cell_type": "code",
      "source": [
        "## I added for my understanding\n",
        "print(query_points[0].shape)"
      ],
      "metadata": {
        "colab": {
          "base_uri": "https://localhost:8080/"
        },
        "id": "CLJFID3Y9_qZ",
        "outputId": "2e5ac756-d48b-4b80-8b4a-8d20e1fab28e"
      },
      "execution_count": 9,
      "outputs": [
        {
          "output_type": "stream",
          "name": "stdout",
          "text": [
            "(400,)\n"
          ]
        }
      ]
    },
    {
      "cell_type": "code",
      "source": [
        "start_time = time.time()\n",
        "lsh_neighbours, lsh_dist = lsh.lsh_search(query_points[0],3)\n",
        "end_time = time.time()\n",
        "print(\"Time Taken:\", end_time - start_time)"
      ],
      "metadata": {
        "colab": {
          "base_uri": "https://localhost:8080/"
        },
        "id": "9taWzxTd_rbj",
        "outputId": "8f3c979e-5d47-453f-a766-408ca8d293cc"
      },
      "execution_count": 10,
      "outputs": [
        {
          "output_type": "stream",
          "name": "stdout",
          "text": [
            "Time Taken: 0.04636240005493164\n"
          ]
        }
      ]
    },
    {
      "cell_type": "code",
      "source": [
        "## I added for my understanding\n",
        "actual_neigh = [lsh.A[index] for index in lsh_neighbours]\n",
        "print(len(lsh_dist))"
      ],
      "metadata": {
        "colab": {
          "base_uri": "https://localhost:8080/"
        },
        "id": "m7ZZ2IpX--gA",
        "outputId": "ec77bb8f-f074-4623-d341-81b2e223af0d"
      },
      "execution_count": 11,
      "outputs": [
        {
          "output_type": "stream",
          "name": "stdout",
          "text": [
            "3\n"
          ]
        }
      ]
    },
    {
      "cell_type": "code",
      "source": [
        "# attempt 2\n",
        "def linear_search(A, query_vector, num_neighbours):\n",
        "    \"\"\"\n",
        "    Finds the nearest neighbours to a given vector, using linear search.\n",
        "    \"\"\"\n",
        "    # TO DO\n",
        "    # Calculate the distances between query vector and all vectors in the dataset\n",
        "    distances = np.array([l1(u, query_vector) for u in A])\n",
        "\n",
        "    # Sort the distances and get the indices of the nearest neighbors\n",
        "    nearest_neighbors_idx = np.argsort(distances)[:num_neighbours]\n",
        "\n",
        "    # Get the distances corresponding to the nearest neighbors\n",
        "    nearest_neighbors_distances = distances[nearest_neighbors_idx]\n",
        "\n",
        "    return nearest_neighbors_idx, nearest_neighbors_distances\n",
        ""
      ],
      "metadata": {
        "id": "OJEBfP3OU2Z6"
      },
      "execution_count": 12,
      "outputs": []
    },
    {
      "cell_type": "code",
      "execution_count": 13,
      "metadata": {
        "id": "Xi8t_K-7ZUAZ",
        "colab": {
          "base_uri": "https://localhost:8080/"
        },
        "outputId": "247bf7f8-af77-4aef-bfc6-b10cc337367b"
      },
      "outputs": [
        {
          "output_type": "stream",
          "name": "stdout",
          "text": [
            "Time Taken: 0.30973172187805176\n"
          ]
        }
      ],
      "source": [
        "# TODO: YOUR CODE HERE\n",
        "# LINEAR\n",
        "start_time = time.time()\n",
        "linear_neighbours, linear_dists = linear_search(dataset, query_points[0], num_neighbours=3)\n",
        "end_time = time.time()\n",
        "print(\"Time Taken:\", end_time - start_time)"
      ]
    },
    {
      "cell_type": "code",
      "execution_count": 14,
      "metadata": {
        "colab": {
          "base_uri": "https://localhost:8080/"
        },
        "id": "8v7r11KTo_Yn",
        "outputId": "fb03506c-bd9c-47bd-d2af-4ebb48fd7274"
      },
      "outputs": [
        {
          "output_type": "stream",
          "name": "stdout",
          "text": [
            "(400,)\n"
          ]
        }
      ],
      "source": [
        "# For my understading\n",
        "actual_candidates = [lsh.A[index] for index in linear_neighbours]\n",
        "print(actual_candidates[0].shape)"
      ]
    },
    {
      "cell_type": "markdown",
      "source": [
        "**What is the average search time for LSH? What about for linear search?** <br>\n",
        "\n",
        "LSH Time Taken: 0.04636240005493164 <br>\n",
        "Linear Time Take: 0.30973172187805176 <br>\n",
        "\n",
        "It is apparent how LSH is much faster than the linear search. It's almost 6x faster.\n"
      ],
      "metadata": {
        "id": "3ksDJStg0vjr"
      }
    },
    {
      "cell_type": "markdown",
      "metadata": {
        "id": "G1r4kD877NjR"
      },
      "source": [
        "### d) Plot errors vs b and r"
      ]
    },
    {
      "cell_type": "code",
      "source": [
        "# lsh_error function\n",
        "\n",
        "def lsh_error(lsh_dist, linear_dist):\n",
        "    \"\"\"\n",
        "    Computes the error measure\n",
        "\n",
        "    piazza:\n",
        "    if there are less than 3 neighbours, compute the top k ; 0<k<3.\n",
        "    if no neighbours, skip in the calculation.\n",
        "    \"\"\"\n",
        "    error_sum, lsh_sum, linear_sum, cnt = 0, 0, 0, 0\n",
        "    length_quries=100\n",
        "    num_neighbours=3\n",
        "    for j in range(length_quries): # from 400x100 of query_points\n",
        "        lsh_d = lsh_dist[j]\n",
        "        lin_d = linear_dist[j]\n",
        "\n",
        "        # if statement to mitigate discussion on piazza\n",
        "        l = len(lsh_d)\n",
        "        if l > 0:\n",
        "          lsh_sum = sum(lsh_d[:l]) # up to the top k amt\n",
        "          linear_sum = sum(lin_d[:l])\n",
        "          error_sum += lsh_sum/linear_sum\n",
        "          cnt+=1 # it may skip, so can't divide by 100\n",
        "    error_measure = (1/cnt)*error_sum\n",
        "\n",
        "    return error_measure"
      ],
      "metadata": {
        "id": "MUcli4J7jmp3"
      },
      "execution_count": 54,
      "outputs": []
    },
    {
      "cell_type": "code",
      "source": [
        "## Use the lsh_error to compute LSH for varying B\n",
        "\n",
        "b_lst = [10,12,14,16,18,20]\n",
        "r = 24\n",
        "error_b = {}\n",
        "error = []\n",
        "num_neighbours = 3\n",
        "\n",
        "for b in b_lst:\n",
        "  print(\"b:\", b)\n",
        "  lsh = my_LSH(dataset, n_rows=r, n_bands=b)  # Update my LSH object\n",
        "  lsh_dist = []\n",
        "  linear_dist = []\n",
        "  error = []\n",
        "  # construct lsh_dist and linear_dist\n",
        "  for j in range(query_points.shape[0]):\n",
        "    _, lsh_dists = lsh.lsh_search(query_points[j], num_neighbours)\n",
        "    _, linear_dists = linear_search(dataset, query_points[j], num_neighbours)\n",
        "\n",
        "    lsh_dist.append(lsh_dists)\n",
        "    linear_dist.append(linear_dists)\n",
        "\n",
        "  # compute error\n",
        "  lsh_err = lsh_error(lsh_dist, linear_dist)\n",
        "  error.append(lsh_err)\n",
        "\n",
        "  error_b[b] = error\n",
        "\n",
        "print(error_b)"
      ],
      "metadata": {
        "colab": {
          "base_uri": "https://localhost:8080/"
        },
        "id": "zlLGGakGR3iL",
        "outputId": "ebf08ed8-a3f2-4883-b8cc-bede2a42101e"
      },
      "execution_count": 40,
      "outputs": [
        {
          "output_type": "stream",
          "name": "stdout",
          "text": [
            "b: 10\n",
            "b: 12\n",
            "b: 14\n",
            "b: 16\n",
            "b: 18\n",
            "b: 20\n",
            "{10: [1.0354770349831819], 12: [1.0263646617764368], 14: [1.0244804618808758], 16: [1.0114034826275524], 18: [1.0136492183312502], 20: [1.0122112403912924]}\n"
          ]
        }
      ]
    },
    {
      "cell_type": "code",
      "source": [
        "## Plot LSH Error for Varying B\n",
        "\n",
        "import matplotlib.pyplot as plt\n",
        "\n",
        "b_val = [10, 12, 14, 16, 18, 20]\n",
        "data1 = sum(error_b[10])\n",
        "data2 = sum(error_b[12])\n",
        "data3 = sum(error_b[14])\n",
        "data4 = sum(error_b[16])\n",
        "data5 = sum(error_b[18])\n",
        "data6 = sum(error_b[20])\n",
        "data_pt =[data1, data2, data3, data4, data5, data6]\n",
        "\n",
        "plt.scatter(b_val, data_pt, marker='o')\n",
        "plt.plot(b_val, data_pt, linestyle='-', color='red', label='Lines')\n",
        "plt.xlabel('Band')\n",
        "plt.ylabel('LSH Error')\n",
        "plt.title('Impact on LSH Error for varying B')\n",
        "plt.grid(True)  # Add a grid if desired\n",
        "plt.show()"
      ],
      "metadata": {
        "colab": {
          "base_uri": "https://localhost:8080/",
          "height": 472
        },
        "id": "d9uALAZPUTVX",
        "outputId": "e8af17a8-bf13-4efe-b338-ffa659f0a340"
      },
      "execution_count": 41,
      "outputs": [
        {
          "output_type": "display_data",
          "data": {
            "text/plain": [
              "<Figure size 640x480 with 1 Axes>"
            ],
            "image/png": "[encoded data removed]"
          },
          "metadata": {}
        }
      ]
    },
    {
      "cell_type": "code",
      "source": [
        "## Use the lsh_error to compute LSH for varying R\n",
        "\n",
        "b = 10\n",
        "r_lst = [16, 18, 20, 22, 24]\n",
        "error_r = {}\n",
        "error = []\n",
        "num_neighbours = 3\n",
        "\n",
        "for r in r_lst:\n",
        "  print(\"r:\", r)\n",
        "  lsh = my_LSH(dataset, n_rows=r, n_bands=b)  # Update my LSH object\n",
        "  lsh_dist = []\n",
        "  linear_dist = []\n",
        "  error = []\n",
        "  # construct lsh_dist and linear_dist\n",
        "  for j in range(query_points.shape[0]):\n",
        "    _, lsh_dists = lsh.lsh_search(query_points[j], num_neighbours)\n",
        "    _, linear_dists = linear_search(dataset, query_points[j], num_neighbours)\n",
        "\n",
        "    lsh_dist.append(lsh_dists)\n",
        "    linear_dist.append(linear_dists)\n",
        "\n",
        "  # compute error\n",
        "  lsh_err = lsh_error(lsh_dist, linear_dist)\n",
        "  error.append(lsh_err)\n",
        "\n",
        "  error_r[r] = error\n",
        "\n",
        "print(error_r)"
      ],
      "metadata": {
        "colab": {
          "base_uri": "https://localhost:8080/"
        },
        "id": "GH26501p3DbH",
        "outputId": "e08ab475-b7e4-405e-b0ae-9f6e96a9d161"
      },
      "execution_count": 55,
      "outputs": [
        {
          "output_type": "stream",
          "name": "stdout",
          "text": [
            "r: 16\n",
            "r: 18\n",
            "r: 20\n",
            "r: 22\n",
            "r: 24\n",
            "{16: [1.0089970169926699], 18: [1.0139518671707812], 20: [1.012172220757122], 22: [1.0263801788280376], 24: [1.0499713763428102]}\n"
          ]
        }
      ]
    },
    {
      "cell_type": "code",
      "source": [
        "## Plot LSH Error for Varying R\n",
        "\n",
        "import matplotlib.pyplot as plt\n",
        "\n",
        "r_val = [16, 18, 20, 22, 24]\n",
        "data1 = sum(error_r[16])\n",
        "data2 = sum(error_r[18])\n",
        "data3 = sum(error_r[20])\n",
        "data4 = sum(error_r[22])\n",
        "data5 = sum(error_r[24])\n",
        "data_pt =[data1, data2, data3, data4, data5]\n",
        "\n",
        "# Create the scatter plot\n",
        "plt.scatter(r_val, data_pt, marker='o')\n",
        "plt.plot(r_val, data_pt, linestyle='-', color='red', label='Lines')\n",
        "plt.xlabel('Row')\n",
        "plt.ylabel('LSH Error')\n",
        "plt.title('Impact on LSH Error for varying R')\n",
        "plt.grid(True)\n",
        "plt.show()"
      ],
      "metadata": {
        "colab": {
          "base_uri": "https://localhost:8080/",
          "height": 472
        },
        "id": "nRZS9_t23DCX",
        "outputId": "269b2c9f-ffff-4b1d-a3c2-9b83a9036a52"
      },
      "execution_count": 56,
      "outputs": [
        {
          "output_type": "display_data",
          "data": {
            "text/plain": [
              "<Figure size 640x480 with 1 Axes>"
            ],
            "image/png": "[encoded data removed]"
          },
          "metadata": {}
        }
      ]
    },
    {
      "cell_type": "markdown",
      "source": [
        "**Brief Disccusion:** <br>\n",
        "As the number of Band increases, the LSH Error decreases. As the number of Row increases, the LSH Error Increases.\n",
        "\n",
        "In more detail, this aligns with the discussion we had in lecture. As the number of bands increases, the error between LSH search and linear search decreases because increasing the number of bands increases the number of hash functions used, which, in turn, refines the grouping of data points into buckets. On the other hand, as the number of rows increases, the error between LSH search and linear search increases because more rows result in stricter hash functions, which group fewer data points together in the same bucket."
      ],
      "metadata": {
        "id": "wK81JMnuGBKv"
      }
    },
    {
      "cell_type": "code",
      "source": [],
      "metadata": {
        "id": "nV7rRnIg3Rsx"
      },
      "execution_count": 19,
      "outputs": []
    },
    {
      "cell_type": "markdown",
      "metadata": {
        "id": "mil8QC-I7YAg"
      },
      "source": [
        "### e) Plot 10 nearest neighbours"
      ]
    },
    {
      "cell_type": "code",
      "execution_count": 57,
      "metadata": {
        "id": "_mHwM6oi7XdH"
      },
      "outputs": [],
      "source": [
        "# TODO: YOUR CODE HERE\n",
        "\n",
        "# Plot the top 10 near neighbours found using the two methods (lsh and linear)\n",
        "# for the image patch in row 100, together with the image patch itself.\n",
        "# How do they compare visually?\n",
        "\n",
        "# Modified to have better visual representation\n",
        "def plot(A, row_nums, base_filename):\n",
        "    \"\"\"\n",
        "    Plots images at the specified rows and saves them each to files.\n",
        "    \"\"\"\n",
        "    plt.figure(figsize=(40, 40))\n",
        "    for i, row_num in enumerate(row_nums):\n",
        "        plt.subplot(1, 11, i + 1)\n",
        "        patch = np.reshape(A[row_num, :], [20, 20])\n",
        "        im = Image.fromarray(patch)\n",
        "        if im.mode != 'RGB':\n",
        "            im = im.convert('RGB')\n",
        "        plt.subplots_adjust(wspace=0.7)\n",
        "        plt.imshow(im)\n",
        "        plt.title(f'Image {i + 1}')\n",
        "        im.save(base_filename + \"-\" + str(row_num) + \".png\")\n"
      ]
    },
    {
      "cell_type": "code",
      "execution_count": 58,
      "metadata": {
        "id": "ujjnqo3NBW1Y"
      },
      "outputs": [],
      "source": [
        "lsh = my_LSH(dataset, n_rows=24, n_bands=10)\n",
        "lsh_neighbours, lsh_dist = lsh.lsh_search(query_points[99],10)"
      ]
    },
    {
      "cell_type": "code",
      "source": [
        "plot(dataset, lsh_neighbours, 'lsh')"
      ],
      "metadata": {
        "colab": {
          "base_uri": "https://localhost:8080/",
          "height": 187
        },
        "id": "8QQ7uliA8eRd",
        "outputId": "66fd0bf3-f340-4938-c90e-e08bb494311f"
      },
      "execution_count": 59,
      "outputs": [
        {
          "output_type": "display_data",
          "data": {
            "text/plain": [
              "<Figure size 4000x4000 with 10 Axes>"
            ],
            "image/png": "[encoded data removed]"
          },
          "metadata": {}
        }
      ]
    },
    {
      "cell_type": "code",
      "source": [
        "linear_neighbours, linear_dists = linear_search(dataset, query_points[99], num_neighbours=10)"
      ],
      "metadata": {
        "id": "9ohnTkrE-jy1"
      },
      "execution_count": 60,
      "outputs": []
    },
    {
      "cell_type": "code",
      "source": [
        "plot(dataset, linear_neighbours, 'linear')"
      ],
      "metadata": {
        "colab": {
          "base_uri": "https://localhost:8080/",
          "height": 187
        },
        "id": "lMlq6cHREoLt",
        "outputId": "7344bc58-9469-451b-8831-02784b0d0755"
      },
      "execution_count": 61,
      "outputs": [
        {
          "output_type": "display_data",
          "data": {
            "text/plain": [
              "<Figure size 4000x4000 with 10 Axes>"
            ],
            "image/png": "[encoded data removed]"
          },
          "metadata": {}
        }
      ]
    },
    {
      "cell_type": "markdown",
      "source": [
        "**How do they compare visually?** <br>\n",
        "They look the same which indicates that LSH method is performing just as well but take less time."
      ],
      "metadata": {
        "id": "KB3d92JvHk9e"
      }
    },
    {
      "cell_type": "code",
      "source": [
        "# Double checking\n",
        "print(\"lsh_neighbours:\", lsh_neighbours)\n",
        "print(\"linear_neighbours:\", linear_neighbours)"
      ],
      "metadata": {
        "colab": {
          "base_uri": "https://localhost:8080/"
        },
        "id": "3_umOELSHl5R",
        "outputId": "631fd9ac-0766-4389-f090-daae06f8e923"
      },
      "execution_count": 62,
      "outputs": [
        {
          "output_type": "stream",
          "name": "stdout",
          "text": [
            "lsh_neighbours: [45824 47717 58733 50966  3351 41879  6360 44680 39004  7689]\n",
            "linear_neighbours: [45824 47717 58733 50966  3351 41879  6360 44680 39004  7689]\n"
          ]
        }
      ]
    },
    {
      "cell_type": "code",
      "source": [],
      "metadata": {
        "id": "wWAGRHlK6q2m"
      },
      "execution_count": null,
      "outputs": []
    }
  ],
  "metadata": {
    "colab": {
      "provenance": []
    },
    "kernelspec": {
      "display_name": "Python 3",
      "name": "python3"
    },
    "language_info": {
      "codemirror_mode": {
        "name": "ipython",
        "version": 3
      },
      "file_extension": ".py",
      "mimetype": "text/x-python",
      "name": "python",
      "nbconvert_exporter": "python",
      "pygments_lexer": "ipython3",
      "version": "3.9.6"
    }
  },
  "nbformat": 4,
  "nbformat_minor": 0
}